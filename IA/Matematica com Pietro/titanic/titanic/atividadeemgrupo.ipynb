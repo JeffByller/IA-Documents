{
 "cells": [
  {
   "cell_type": "code",
   "execution_count": 34,
   "id": "1942cc71",
   "metadata": {},
   "outputs": [],
   "source": [
    "import pandas as pd\n",
    "import numpy as np\n"
   ]
  },
  {
   "cell_type": "code",
   "execution_count": 35,
   "id": "66d5cae5",
   "metadata": {},
   "outputs": [],
   "source": [
    "df = pd.read_csv('train.csv')\n"
   ]
  },
  {
   "cell_type": "code",
   "execution_count": 36,
   "id": "ada1c184",
   "metadata": {},
   "outputs": [
    {
     "name": "stdout",
     "output_type": "stream",
     "text": [
      "--- Visualizando as 5 primeiras linhas (head) ---\n"
     ]
    },
    {
     "data": {
      "text/html": [
       "<div>\n",
       "<style scoped>\n",
       "    .dataframe tbody tr th:only-of-type {\n",
       "        vertical-align: middle;\n",
       "    }\n",
       "\n",
       "    .dataframe tbody tr th {\n",
       "        vertical-align: top;\n",
       "    }\n",
       "\n",
       "    .dataframe thead th {\n",
       "        text-align: right;\n",
       "    }\n",
       "</style>\n",
       "<table border=\"1\" class=\"dataframe\">\n",
       "  <thead>\n",
       "    <tr style=\"text-align: right;\">\n",
       "      <th></th>\n",
       "      <th>PassengerId</th>\n",
       "      <th>Survived</th>\n",
       "      <th>Pclass</th>\n",
       "      <th>Name</th>\n",
       "      <th>Sex</th>\n",
       "      <th>Age</th>\n",
       "      <th>SibSp</th>\n",
       "      <th>Parch</th>\n",
       "      <th>Ticket</th>\n",
       "      <th>Fare</th>\n",
       "      <th>Cabin</th>\n",
       "      <th>Embarked</th>\n",
       "    </tr>\n",
       "  </thead>\n",
       "  <tbody>\n",
       "    <tr>\n",
       "      <th>0</th>\n",
       "      <td>1</td>\n",
       "      <td>0</td>\n",
       "      <td>3</td>\n",
       "      <td>Braund, Mr. Owen Harris</td>\n",
       "      <td>male</td>\n",
       "      <td>22.00</td>\n",
       "      <td>1</td>\n",
       "      <td>0</td>\n",
       "      <td>A/5 21171</td>\n",
       "      <td>7.25</td>\n",
       "      <td>NaN</td>\n",
       "      <td>S</td>\n",
       "    </tr>\n",
       "    <tr>\n",
       "      <th>1</th>\n",
       "      <td>2</td>\n",
       "      <td>1</td>\n",
       "      <td>1</td>\n",
       "      <td>Cumings, Mrs. John Bradley (Florence Briggs Th...</td>\n",
       "      <td>female</td>\n",
       "      <td>38.00</td>\n",
       "      <td>1</td>\n",
       "      <td>0</td>\n",
       "      <td>PC 17599</td>\n",
       "      <td>71.28</td>\n",
       "      <td>C85</td>\n",
       "      <td>C</td>\n",
       "    </tr>\n",
       "    <tr>\n",
       "      <th>2</th>\n",
       "      <td>3</td>\n",
       "      <td>1</td>\n",
       "      <td>3</td>\n",
       "      <td>Heikkinen, Miss. Laina</td>\n",
       "      <td>female</td>\n",
       "      <td>26.00</td>\n",
       "      <td>0</td>\n",
       "      <td>0</td>\n",
       "      <td>STON/O2. 3101282</td>\n",
       "      <td>7.92</td>\n",
       "      <td>NaN</td>\n",
       "      <td>S</td>\n",
       "    </tr>\n",
       "    <tr>\n",
       "      <th>3</th>\n",
       "      <td>4</td>\n",
       "      <td>1</td>\n",
       "      <td>1</td>\n",
       "      <td>Futrelle, Mrs. Jacques Heath (Lily May Peel)</td>\n",
       "      <td>female</td>\n",
       "      <td>35.00</td>\n",
       "      <td>1</td>\n",
       "      <td>0</td>\n",
       "      <td>113803</td>\n",
       "      <td>53.10</td>\n",
       "      <td>C123</td>\n",
       "      <td>S</td>\n",
       "    </tr>\n",
       "    <tr>\n",
       "      <th>4</th>\n",
       "      <td>5</td>\n",
       "      <td>0</td>\n",
       "      <td>3</td>\n",
       "      <td>Allen, Mr. William Henry</td>\n",
       "      <td>male</td>\n",
       "      <td>35.00</td>\n",
       "      <td>0</td>\n",
       "      <td>0</td>\n",
       "      <td>373450</td>\n",
       "      <td>8.05</td>\n",
       "      <td>NaN</td>\n",
       "      <td>S</td>\n",
       "    </tr>\n",
       "  </tbody>\n",
       "</table>\n",
       "</div>"
      ],
      "text/plain": [
       "   PassengerId  Survived  Pclass  \\\n",
       "0            1         0       3   \n",
       "1            2         1       1   \n",
       "2            3         1       3   \n",
       "3            4         1       1   \n",
       "4            5         0       3   \n",
       "\n",
       "                                                Name     Sex   Age  SibSp  \\\n",
       "0                            Braund, Mr. Owen Harris    male 22.00      1   \n",
       "1  Cumings, Mrs. John Bradley (Florence Briggs Th...  female 38.00      1   \n",
       "2                             Heikkinen, Miss. Laina  female 26.00      0   \n",
       "3       Futrelle, Mrs. Jacques Heath (Lily May Peel)  female 35.00      1   \n",
       "4                           Allen, Mr. William Henry    male 35.00      0   \n",
       "\n",
       "   Parch            Ticket  Fare Cabin Embarked  \n",
       "0      0         A/5 21171  7.25   NaN        S  \n",
       "1      0          PC 17599 71.28   C85        C  \n",
       "2      0  STON/O2. 3101282  7.92   NaN        S  \n",
       "3      0            113803 53.10  C123        S  \n",
       "4      0            373450  8.05   NaN        S  "
      ]
     },
     "execution_count": 36,
     "metadata": {},
     "output_type": "execute_result"
    }
   ],
   "source": [
    "# Visualizar as primeiras linhas (head)\n",
    "print(\"--- Visualizando as 5 primeiras linhas (head) ---\")\n",
    "df.head()"
   ]
  },
  {
   "cell_type": "code",
   "execution_count": 37,
   "id": "a9986f31",
   "metadata": {},
   "outputs": [
    {
     "name": "stdout",
     "output_type": "stream",
     "text": [
      "\n",
      "--- Colunas disponíveis ---\n",
      "['PassengerId', 'Survived', 'Pclass', 'Name', 'Sex', 'Age', 'SibSp', 'Parch', 'Ticket', 'Fare', 'Cabin', 'Embarked']\n"
     ]
    }
   ],
   "source": [
    "# as colunas disponíveis.\n",
    "print(\"\\n--- Colunas disponíveis ---\")\n",
    "print(df.columns.tolist())"
   ]
  },
  {
   "cell_type": "code",
   "execution_count": 38,
   "id": "595bacdd",
   "metadata": {},
   "outputs": [
    {
     "name": "stdout",
     "output_type": "stream",
     "text": [
      "\n",
      "--- Valores ausentes ---\n",
      "PassengerId      0\n",
      "Survived         0\n",
      "Pclass           0\n",
      "Name             0\n",
      "Sex              0\n",
      "Age            177\n",
      "SibSp            0\n",
      "Parch            0\n",
      "Ticket           0\n",
      "Fare             0\n",
      "Cabin          687\n",
      "Embarked         2\n",
      "dtype: int64\n"
     ]
    }
   ],
   "source": [
    "# Identificando valores ausentes\n",
    "print(\"\\n--- Valores ausentes ---\")\n",
    "print(df.isnull().sum())"
   ]
  },
  {
   "cell_type": "code",
   "execution_count": 39,
   "id": "f2f894b1",
   "metadata": {},
   "outputs": [
    {
     "name": "stdout",
     "output_type": "stream",
     "text": [
      "A porcentagem total de sobreviventes no Titanic foi de: 38.38%\n"
     ]
    }
   ],
   "source": [
    "# Pergunta 1 - Qual a porcentagem de sobreviventes?\n",
    "sobreviventes_percent = df['Survived'].mean() * 100\n",
    "\n",
    "print(f\"A porcentagem total de sobreviventes no Titanic foi de: {sobreviventes_percent:.2f}%\")"
   ]
  },
  {
   "cell_type": "code",
   "execution_count": 40,
   "id": "3d7cb7a7",
   "metadata": {},
   "outputs": [
    {
     "name": "stdout",
     "output_type": "stream",
     "text": [
      "\n",
      "--- Taxa de Sobrevivência por Gênero ---\n",
      "Sex\n",
      "female   74.20\n",
      "male     18.89\n",
      "Name: Survived, dtype: float64\n"
     ]
    }
   ],
   "source": [
    "# Pergunta 2 - Diferença na sobrevivência entre homens e mulheres?\n",
    "# Usamos groupby() para agrupar os dados por 'Sex' e calculamos a média de 'Survived' para cada grupo.\n",
    "taxa_sobrevivencia_genero = df.groupby('Sex')['Survived'].mean() * 100\n",
    "\n",
    "print(\"\\n--- Taxa de Sobrevivência por Gênero ---\")\n",
    "print(taxa_sobrevivencia_genero)"
   ]
  },
  {
   "cell_type": "code",
   "execution_count": 41,
   "id": "d1d2ee33",
   "metadata": {},
   "outputs": [
    {
     "name": "stdout",
     "output_type": "stream",
     "text": [
      "\n",
      "--- Taxa de Sobrevivência por Classe ---\n",
      "Pclass\n",
      "1   62.96\n",
      "2   47.28\n",
      "3   24.24\n",
      "Name: Survived, dtype: float64\n"
     ]
    }
   ],
   "source": [
    "# Pergunta 3 - Passageiros de classes diferentes tiveram chances diferentes de sobrevivência?\n",
    "# Agrupamos por 'Pclass' (Classe do Passageiro) e calculamos a média de sobrevivência. Bem similar com a pergunta 2\n",
    "taxa_sobrevivencia_classe = df.groupby('Pclass')['Survived'].mean() * 100\n",
    "\n",
    "print(\"\\n--- Taxa de Sobrevivência por Classe ---\")\n",
    "print(taxa_sobrevivencia_classe)"
   ]
  },
  {
   "cell_type": "code",
   "execution_count": 42,
   "id": "309b1d57",
   "metadata": {},
   "outputs": [
    {
     "name": "stdout",
     "output_type": "stream",
     "text": [
      "\n",
      "--- Média de Idade por Status de Sobrevivência ---\n",
      "Não Sobreviveu   30.63\n",
      "Sobreviveu       28.34\n",
      "Name: Age, dtype: float64\n"
     ]
    }
   ],
   "source": [
    "# Pergunta 4 - Qual foi a média de idade dos sobreviventes e não sobreviventes?\n",
    "# Agrupamos por 'Survived' e calculamos a média de 'Age' para cada grupo.\n",
    "media_idade_por_sobrevivencia = df.groupby('Survived')['Age'].mean()\n",
    "\n",
    "print(\"\\n--- Média de Idade por Status de Sobrevivência ---\")\n",
    "# Renomeando os índices para clareza\n",
    "media_idade_por_sobrevivencia.index = ['Não Sobreviveu', 'Sobreviveu']\n",
    "print(media_idade_por_sobrevivencia)"
   ]
  },
  {
   "cell_type": "code",
   "execution_count": 43,
   "id": "7e71e024",
   "metadata": {},
   "outputs": [
    {
     "name": "stdout",
     "output_type": "stream",
     "text": [
      "\n",
      "--- Contagem de Passageiros por Porto de Embarque ---\n",
      "Embarked\n",
      "S    644\n",
      "C    168\n",
      "Q     77\n",
      "Name: count, dtype: int64\n",
      "\n",
      "O porto com mais passageiros foi: S (Southampton)\n"
     ]
    }
   ],
   "source": [
    "# Pergunta 5 - Qual porto de embarque (Embarked) teve mais passageiros?\n",
    "# Usamos value_counts() para contar o número de ocorrências de cada porto.\n",
    "contagem_portos = df['Embarked'].value_counts()\n",
    "porto_mais_comum = df['Embarked'].mode()[0]\n",
    "\n",
    "print(\"\\n--- Contagem de Passageiros por Porto de Embarque ---\")\n",
    "print(contagem_portos)\n",
    "print(f\"\\nO porto com mais passageiros foi: {porto_mais_comum} (Southampton)\")"
   ]
  },
  {
   "cell_type": "code",
   "execution_count": 44,
   "id": "46cbf5bc",
   "metadata": {},
   "outputs": [
    {
     "name": "stdout",
     "output_type": "stream",
     "text": [
      "\n",
      "--- Análise da Tarifa (Fare) com NumPy ---\n",
      "Média da Tarifa: 32.20\n",
      "Desvio Padrão da Tarifa: 49.67\n"
     ]
    }
   ],
   "source": [
    "# Parte Prática Fiquei com duvidas nessa aqui como realizar o uso do pandas e depois usar o numpy\n",
    "# 1. Primeiro, removemos os valores ausentes (se houver) e extraímos os valores como um array NumPy.\n",
    "tarifas_np = df['Fare'].dropna().to_numpy()\n",
    "\n",
    "# 2. Agora, usamos as funções do NumPy\n",
    "media_tarifa_np = np.mean(tarifas_np)\n",
    "desvio_padrao_tarifa_np = np.std(tarifas_np)\n",
    "\n",
    "print(\"\\n--- Análise da Tarifa (Fare) com NumPy ---\")\n",
    "print(f\"Média da Tarifa: {media_tarifa_np:.2f}\")\n",
    "print(f\"Desvio Padrão da Tarifa: {desvio_padrao_tarifa_np:.2f}\")"
   ]
  }
 ],
 "metadata": {
  "kernelspec": {
   "display_name": "base",
   "language": "python",
   "name": "python3"
  },
  "language_info": {
   "codemirror_mode": {
    "name": "ipython",
    "version": 3
   },
   "file_extension": ".py",
   "mimetype": "text/x-python",
   "name": "python",
   "nbconvert_exporter": "python",
   "pygments_lexer": "ipython3",
   "version": "3.13.5"
  }
 },
 "nbformat": 4,
 "nbformat_minor": 5
}
